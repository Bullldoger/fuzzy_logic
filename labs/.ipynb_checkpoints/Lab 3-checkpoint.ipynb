{
 "cells": [
  {
   "cell_type": "code",
   "execution_count": 19,
   "metadata": {},
   "outputs": [],
   "source": [
    "import fuzzy\n",
    "import fuzzy.storage.fcl.Reader\n",
    "from fuzzy import norm\n",
    "from fuzzy.norm import AlgebraicProduct, AlgebraicSum, Max, Min, MinMax"
   ]
  },
  {
   "cell_type": "markdown",
   "metadata": {},
   "source": [
    "# Считывание FIS"
   ]
  },
  {
   "cell_type": "code",
   "execution_count": 20,
   "metadata": {},
   "outputs": [],
   "source": [
    "system = fuzzy.storage.fcl.Reader.Reader().load_from_file(\"FIS/lab3.fcl\")"
   ]
  },
  {
   "cell_type": "markdown",
   "metadata": {},
   "source": [
    "# Подготовка"
   ]
  },
  {
   "cell_type": "code",
   "execution_count": 21,
   "metadata": {},
   "outputs": [],
   "source": [
    "water = system.variables['water']\n",
    "pressure = system.variables['pressure']\n",
    "variable = system.variables['VARIABLE']"
   ]
  },
  {
   "cell_type": "code",
   "execution_count": 65,
   "metadata": {},
   "outputs": [],
   "source": [
    "water.setValue(17)\n",
    "pressure.setValue(20)"
   ]
  },
  {
   "cell_type": "code",
   "execution_count": 66,
   "metadata": {},
   "outputs": [],
   "source": [
    "weak_pressure = pressure.adjectives['weak']\n",
    "comfortable_pressure = pressure.adjectives['comfortable']\n",
    "strong_pressure = pressure.adjectives['strong']\n",
    "\n",
    "cold_water = water.adjectives['cold']\n",
    "comfortable_water = water.adjectives['comfortable']\n",
    "hot_water = water.adjectives['hot']"
   ]
  },
  {
   "cell_type": "code",
   "execution_count": 67,
   "metadata": {},
   "outputs": [],
   "source": [
    "weak_mf = weak_pressure.getMembership()\n",
    "comfort_mf = comfortable_pressure.getMembership()\n",
    "strong_mf = strong_pressure.getMembership()\n",
    "\n",
    "cold_mf = cold_water.getMembership()\n",
    "comf_water_mf = comfortable_water.getMembership()\n",
    "hot_mf = hot_water.getMembership()"
   ]
  },
  {
   "cell_type": "markdown",
   "metadata": {},
   "source": [
    "# Задание 1. Определение степеней истинности высказыний"
   ]
  },
  {
   "cell_type": "markdown",
   "metadata": {},
   "source": [
    "## \"Не (струя - комфортная) \""
   ]
  },
  {
   "cell_type": "markdown",
   "metadata": {},
   "source": [
    "### Алгебраический метод"
   ]
  },
  {
   "cell_type": "code",
   "execution_count": 68,
   "metadata": {},
   "outputs": [
    {
     "data": {
      "text/plain": [
       "1.0"
      ]
     },
     "execution_count": 68,
     "metadata": {},
     "output_type": "execute_result"
    }
   ],
   "source": [
    "1 - comfort_mf"
   ]
  },
  {
   "cell_type": "code",
   "execution_count": 69,
   "metadata": {},
   "outputs": [
    {
     "data": {
      "text/plain": [
       "0.9230769230769231"
      ]
     },
     "execution_count": 69,
     "metadata": {},
     "output_type": "execute_result"
    }
   ],
   "source": [
    "weak_mf + strong_mf"
   ]
  },
  {
   "cell_type": "markdown",
   "metadata": {},
   "source": [
    "## \"Струя - сильная или струя слабая"
   ]
  },
  {
   "cell_type": "markdown",
   "metadata": {},
   "source": [
    "### Алгебраический метод"
   ]
  },
  {
   "cell_type": "code",
   "execution_count": 70,
   "metadata": {},
   "outputs": [
    {
     "data": {
      "text/plain": [
       "0.9230769230769231"
      ]
     },
     "execution_count": 70,
     "metadata": {},
     "output_type": "execute_result"
    }
   ],
   "source": [
    "AlgebraicSum.AlgebraicSum()(weak_mf, strong_mf)"
   ]
  },
  {
   "cell_type": "markdown",
   "metadata": {},
   "source": [
    "### Минимаксный метод"
   ]
  },
  {
   "cell_type": "code",
   "execution_count": 71,
   "metadata": {},
   "outputs": [
    {
     "data": {
      "text/plain": [
       "0.9230769230769231"
      ]
     },
     "execution_count": 71,
     "metadata": {},
     "output_type": "execute_result"
    }
   ],
   "source": [
    "Max.Max()(weak_mf, strong_mf)"
   ]
  },
  {
   "cell_type": "markdown",
   "metadata": {},
   "source": [
    "## \"Вода - горячая или струя - сильная\""
   ]
  },
  {
   "cell_type": "markdown",
   "metadata": {},
   "source": [
    "### Алгебраический метод"
   ]
  },
  {
   "cell_type": "code",
   "execution_count": 72,
   "metadata": {},
   "outputs": [
    {
     "data": {
      "text/plain": [
       "0.0"
      ]
     },
     "execution_count": 72,
     "metadata": {},
     "output_type": "execute_result"
    }
   ],
   "source": [
    "AlgebraicSum.AlgebraicSum()(hot_mf, strong_mf)"
   ]
  },
  {
   "cell_type": "markdown",
   "metadata": {},
   "source": [
    "### Минимаксный метод"
   ]
  },
  {
   "cell_type": "code",
   "execution_count": 73,
   "metadata": {},
   "outputs": [
    {
     "data": {
      "text/plain": [
       "0.0"
      ]
     },
     "execution_count": 73,
     "metadata": {},
     "output_type": "execute_result"
    }
   ],
   "source": [
    "Max.Max()(hot_mf, strong_mf)"
   ]
  },
  {
   "cell_type": "markdown",
   "metadata": {},
   "source": [
    "## \"Вода - холодная или НЕ (вода - теплая и струя - комфортная) \""
   ]
  },
  {
   "cell_type": "markdown",
   "metadata": {},
   "source": [
    "### Алгебраический метод"
   ]
  },
  {
   "cell_type": "code",
   "execution_count": 74,
   "metadata": {},
   "outputs": [
    {
     "data": {
      "text/plain": [
       "1.0"
      ]
     },
     "execution_count": 74,
     "metadata": {},
     "output_type": "execute_result"
    }
   ],
   "source": [
    "AlgebraicSum.AlgebraicSum()(cold_mf, 1 - AlgebraicProduct.AlgebraicProduct()(comf_water_mf, comfort_mf))"
   ]
  },
  {
   "cell_type": "markdown",
   "metadata": {},
   "source": [
    "### Минимаксный метод"
   ]
  },
  {
   "cell_type": "code",
   "execution_count": 75,
   "metadata": {},
   "outputs": [
    {
     "data": {
      "text/plain": [
       "1.0"
      ]
     },
     "execution_count": 75,
     "metadata": {},
     "output_type": "execute_result"
    }
   ],
   "source": [
    "Max.Max()(cold_mf, 1 - Min.Min()(comf_water_mf, comfort_mf))"
   ]
  },
  {
   "cell_type": "markdown",
   "metadata": {},
   "source": [
    "# Задание 2. Cоздание лингвистической переменной в файле FIS. Минимаксный и алгебраический методы -> графики для заданных подмножеств"
   ]
  },
  {
   "cell_type": "code",
   "execution_count": 33,
   "metadata": {},
   "outputs": [],
   "source": [
    "import numpy as np"
   ]
  },
  {
   "cell_type": "code",
   "execution_count": 34,
   "metadata": {},
   "outputs": [],
   "source": [
    "STEPS = 1000"
   ]
  },
  {
   "cell_type": "code",
   "execution_count": 35,
   "metadata": {},
   "outputs": [],
   "source": [
    "x = np.linspace(-10, 10, STEPS)"
   ]
  },
  {
   "cell_type": "code",
   "execution_count": 36,
   "metadata": {},
   "outputs": [],
   "source": [
    "def mf_func(TYPE = 'algebraic'):\n",
    "    if TYPE == 'algebraic':\n",
    "        MAX = AlgebraicSum.AlgebraicSum()\n",
    "        MIN = AlgebraicProduct.AlgebraicProduct()\n",
    "    \n",
    "    if TYPE == 'min_max':\n",
    "        MAX = Max.Max()\n",
    "        MIN = Min.Min()\n",
    "    return (MAX, MIN)"
   ]
  },
  {
   "cell_type": "code",
   "execution_count": 37,
   "metadata": {},
   "outputs": [],
   "source": [
    "def calc(arg, MAX, MIN, task=None):\n",
    "    \n",
    "    variable.setValue(arg)\n",
    "    \n",
    "    var_A = variable.adjectives['A']\n",
    "    var_B = variable.adjectives['B']\n",
    "    var_C = variable.adjectives['C']\n",
    "\n",
    "    a_mf = var_A.getMembership()\n",
    "    b_mf = var_B.getMembership()\n",
    "    c_mf = var_C.getMembership()\n",
    "    \n",
    "    return task([a_mf, b_mf, c_mf, MIN, MAX])"
   ]
  },
  {
   "cell_type": "code",
   "execution_count": 38,
   "metadata": {},
   "outputs": [],
   "source": [
    "# args = [a_mf - 0, b_mf - 1, c_mf - 2, MIN - 3, MAX - 4]\n",
    "task_1 = lambda args: args[3](args[0], args[1])\n",
    "task_2 = lambda args: args[3](args[1], args[4](args[0], args[2]))\n",
    "task_3 = lambda args: args[4](args[1], 1 - args[4](args[0], args[4](args[2], args[1])))"
   ]
  },
  {
   "cell_type": "code",
   "execution_count": 39,
   "metadata": {},
   "outputs": [],
   "source": [
    "MAX_ALG, MIN_ALG = mf_func(TYPE='algebraic')\n",
    "MAX, MIN = mf_func(TYPE='min_max')"
   ]
  },
  {
   "cell_type": "code",
   "execution_count": 40,
   "metadata": {},
   "outputs": [],
   "source": [
    "RESULT_1_MINMAX = list()\n",
    "RESULT_1_ALG = list()\n",
    "RESULT_2_MINMAX = list()\n",
    "RESULT_2_ALG = list()\n",
    "RESULT_3_MINMAX = list()\n",
    "RESULT_3_ALG = list()\n",
    "\n",
    "for arg in x:\n",
    "    RESULT_1_MINMAX.append(calc(arg, MAX, MIN, task=task_1))\n",
    "    RESULT_1_ALG.append(calc(arg, MAX_ALG, MIN_ALG, task=task_1))\n",
    "    RESULT_2_MINMAX.append(calc(arg, MAX, MIN, task=task_2))\n",
    "    RESULT_2_ALG.append(calc(arg, MAX_ALG, MIN_ALG, task=task_2))\n",
    "    RESULT_3_MINMAX.append(calc(arg, MAX, MIN, task=task_3))\n",
    "    RESULT_3_ALG.append(calc(arg, MAX_ALG, MIN_ALG, task=task_3))"
   ]
  },
  {
   "cell_type": "code",
   "execution_count": 41,
   "metadata": {},
   "outputs": [],
   "source": [
    "import matplotlib.pyplot as plt"
   ]
  },
  {
   "cell_type": "code",
   "execution_count": 79,
   "metadata": {},
   "outputs": [
    {
     "data": {
      "image/png": "[encoded data removed]",
      "text/plain": [
       "<Figure size 1152x1440 with 3 Axes>"
      ]
     },
     "metadata": {
      "needs_background": "light"
     },
     "output_type": "display_data"
    }
   ],
   "source": [
    "plt.figure(figsize=(16, 20))\n",
    "\n",
    "# plt.subplots(nrows=3, ncols=2)\n",
    "plt.subplot(311)\n",
    "plt.plot(x, RESULT_1_ALG)\n",
    "plt.title('A AND B (Algebraic)')\n",
    "plt.plot(x, RESULT_1_MINMAX)\n",
    "\n",
    "plt.subplot(312)\n",
    "plt.title('B AND (A OR C) (Algebraic)')\n",
    "plt.plot(x, RESULT_2_ALG)\n",
    "plt.plot(x, RESULT_2_MINMAX)\n",
    "\n",
    "plt.subplot(313)\n",
    "plt.plot(x, RESULT_3_ALG)\n",
    "plt.plot(x, RESULT_3_MINMAX)\n",
    "plt.title('B OR NOT (A OR B OR C) (MinMax)')\n",
    "\n",
    "plt.show()"
   ]
  },
  {
   "cell_type": "markdown",
   "metadata": {},
   "source": [
    "# Задание 3. Провести деффазификацию всеми известными способами"
   ]
  },
  {
   "cell_type": "markdown",
   "metadata": {},
   "source": [
    "## Center of Gravity"
   ]
  },
  {
   "cell_type": "code",
   "execution_count": 76,
   "metadata": {},
   "outputs": [],
   "source": [
    "MINMAX_RESULTS = np.array(RESULT_3_MINMAX)\n",
    "ALGEBRAIC_RESULTS = np.array(RESULT_3_ALG)"
   ]
  },
  {
   "cell_type": "markdown",
   "metadata": {},
   "source": [
    "### Min-Max"
   ]
  },
  {
   "cell_type": "code",
   "execution_count": 77,
   "metadata": {},
   "outputs": [
    {
     "data": {
      "text/plain": [
       "9.085852070711552e-16"
      ]
     },
     "execution_count": 77,
     "metadata": {},
     "output_type": "execute_result"
    }
   ],
   "source": [
    "np.sum(x * MINMAX_RESULTS) / np.sum(MINMAX_RESULTS)"
   ]
  },
  {
   "cell_type": "markdown",
   "metadata": {},
   "source": [
    "### Алгебраический"
   ]
  },
  {
   "cell_type": "code",
   "execution_count": 78,
   "metadata": {},
   "outputs": [
    {
     "data": {
      "text/plain": [
       "4.1941144592305106e-16"
      ]
     },
     "execution_count": 78,
     "metadata": {},
     "output_type": "execute_result"
    }
   ],
   "source": [
    "np.sum(x * ALGEBRAIC_RESULTS) / np.sum(ALGEBRAIC_RESULTS)"
   ]
  },
  {
   "cell_type": "markdown",
   "metadata": {},
   "source": [
    "### Left Most Maximum (LMM) : -10. Для Min-Max и алгебраического метода совпадает"
   ]
  },
  {
   "cell_type": "markdown",
   "metadata": {},
   "source": [
    "### Right Most Maximum (RMM) : 10.  Для Min-Max и алгебраического метода совпадает"
   ]
  },
  {
   "cell_type": "markdown",
   "metadata": {},
   "source": [
    "### По методу медианы. Для Min-Max и алгебраических методов одинаковы и равны 0, в силу симметрии"
   ]
  },
  {
   "cell_type": "markdown",
   "metadata": {},
   "source": [
    "### По методу центра максимумов. Для Min-Max и алгебраических методов одинаковы и равны 0, в силу симметрии 0."
   ]
  },
  {
   "cell_type": "markdown",
   "metadata": {},
   "source": [
    "# References"
   ]
  },
  {
   "cell_type": "markdown",
   "metadata": {},
   "source": [
    "A Short Fuzzy Logic Tutorial.pdf\n",
    "http://matlab.exponenta.ru/fuzzylogic/book1/1.php\n",
    "Лекции Иткин В.Ю."
   ]
  }
 ],
 "metadata": {
  "kernelspec": {
   "display_name": "Python 2",
   "language": "python",
   "name": "python2"
  },
  "language_info": {
   "codemirror_mode": {
    "name": "ipython",
    "version": 2
   },
   "file_extension": ".py",
   "mimetype": "text/x-python",
   "name": "python",
   "nbconvert_exporter": "python",
   "pygments_lexer": "ipython2",
   "version": "2.7.13"
  }
 },
 "nbformat": 4,
 "nbformat_minor": 2
}
