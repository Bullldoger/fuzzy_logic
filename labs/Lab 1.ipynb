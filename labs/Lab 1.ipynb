{
 "cells": [
  {
   "cell_type": "code",
   "execution_count": 2,
   "metadata": {},
   "outputs": [],
   "source": [
    "import fuzzy\n",
    "import fuzzy.storage.fcl.Reader\n",
    "from fuzzy.doc.plot.gnuplot import doc"
   ]
  },
  {
   "cell_type": "markdown",
   "metadata": {},
   "source": [
    "# Считывание FIS"
   ]
  },
  {
   "cell_type": "code",
   "execution_count": 6,
   "metadata": {},
   "outputs": [],
   "source": [
    "system = fuzzy.storage.fcl.Reader.Reader().load_from_file(\"FIS/lab1.fcl\")\n",
    "DOC = doc.Doc('lab - 1')"
   ]
  },
  {
   "cell_type": "markdown",
   "metadata": {},
   "source": [
    "# Отрисовка функций принадлежности"
   ]
  },
  {
   "cell_type": "code",
   "execution_count": 7,
   "metadata": {},
   "outputs": [],
   "source": [
    "DOC.createDocVariable(system.variables['U'], 'Напряжение', x_logscale=0, y_logscale=0)\n",
    "DOC.createDocVariable(system.variables['Temperature'], 'Температура воды в котле', x_logscale=0, y_logscale=0)\n",
    "DOC.createDocVariable(system.variables['OilSutaration'], 'Содержание нефти', x_logscale=0, y_logscale=0)\n",
    "DOC.createDocVariable(system.variables['FilmRank'], 'Рейтинг фильма', x_logscale=0, y_logscale=0)\n",
    "DOC.createDocVariable(system.variables['RAM'], 'RAM volume', x_logscale=0, y_logscale=0)"
   ]
  }
 ],
 "metadata": {
  "kernelspec": {
   "display_name": "Python 2",
   "language": "python",
   "name": "python2"
  },
  "language_info": {
   "codemirror_mode": {
    "name": "ipython",
    "version": 2
   },
   "file_extension": ".py",
   "mimetype": "text/x-python",
   "name": "python",
   "nbconvert_exporter": "python",
   "pygments_lexer": "ipython2",
   "version": "2.7.13"
  }
 },
 "nbformat": 4,
 "nbformat_minor": 2
}
